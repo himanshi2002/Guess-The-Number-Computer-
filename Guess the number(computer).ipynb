{
 "cells": [
  {
   "cell_type": "code",
   "execution_count": 1,
   "metadata": {},
   "outputs": [],
   "source": [
    "import random"
   ]
  },
  {
   "cell_type": "code",
   "execution_count": 2,
   "metadata": {},
   "outputs": [
    {
     "name": "stdout",
     "output_type": "stream",
     "text": [
      "guess number bewtween 1 and 10:1\n",
      "the number is too low\n",
      "guess number bewtween 1 and 10:2\n",
      "the number is too low\n",
      "guess number bewtween 1 and 10:1\n",
      "the number is too low\n",
      "guess number bewtween 1 and 10:1\n",
      "the number is too low\n",
      "guess number bewtween 1 and 10:1\n",
      "the number is too low\n",
      "guess number bewtween 1 and 10:1\n",
      "the number is too low\n",
      "guess number bewtween 1 and 10:1\n",
      "the number is too low\n",
      "guess number bewtween 1 and 10:6\n",
      "you have guessed the number 7 correctly.In 7 tries\n"
     ]
    }
   ],
   "source": [
    "def guess(x):\n",
    "    random_number=random.randint(1,x)\n",
    "    guess=0\n",
    "    while(guess!=random_number):\n",
    "        guess=int(input(f\"guess number bewtween 1 and {x}:\"))\n",
    "        guess+=1\n",
    "        if guess>random_number:\n",
    "            print(\"the number is too high\")\n",
    "        elif guess<random_number:\n",
    "            print(\"the number is too low\")\n",
    "    print(f\"you have guessed the number {random_number} correctly.In {guess} tries\")\n",
    "guess(10)"
   ]
  },
  {
   "cell_type": "code",
   "execution_count": 5,
   "metadata": {},
   "outputs": [
    {
     "name": "stdout",
     "output_type": "stream",
     "text": [
      "enter number between 1 and 10:1\n",
      "number is to low\n",
      "enter number between 1 and 10:e\n",
      "Invalid\n",
      "enter number between 1 and 10:2\n",
      "number is to low\n",
      "enter number between 1 and 10:4\n",
      "number is to low\n",
      "enter number between 1 and 10:6\n",
      "number is too high\n",
      "enter number between 1 and 10:5\n",
      "You have guessed the number in 5 tries\n"
     ]
    }
   ],
   "source": [
    "import random\n",
    "def play(x):\n",
    "    computer=random.randint(1,x)\n",
    "    guess=0\n",
    "    while guess<5: # suppose we want to give 5 chances\n",
    "        try:\n",
    "            user=int(input(f\"enter number between 1 and {x}:\"))\n",
    "            guess+=1\n",
    "            if user>computer:\n",
    "                print(\"number is too high\")\n",
    "            elif user<computer:\n",
    "                print(\"number is to low\")\n",
    "            \n",
    "        except:\n",
    "            print(\"Invalid\")\n",
    "            \n",
    "        \n",
    "        \n",
    "    print(f\"You have guessed the number in {guess} tries\")\n",
    "\n",
    "play(10)\n",
    "        "
   ]
  },
  {
   "cell_type": "code",
   "execution_count": null,
   "metadata": {},
   "outputs": [],
   "source": []
  }
 ],
 "metadata": {
  "kernelspec": {
   "display_name": "Python 3",
   "language": "python",
   "name": "python3"
  },
  "language_info": {
   "codemirror_mode": {
    "name": "ipython",
    "version": 3
   },
   "file_extension": ".py",
   "mimetype": "text/x-python",
   "name": "python",
   "nbconvert_exporter": "python",
   "pygments_lexer": "ipython3",
   "version": "3.8.3"
  }
 },
 "nbformat": 4,
 "nbformat_minor": 4
}
